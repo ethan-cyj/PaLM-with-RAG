{
 "cells": [
  {
   "cell_type": "code",
   "execution_count": 8,
   "metadata": {},
   "outputs": [
    {
     "name": "stdout",
     "output_type": "stream",
     "text": [
      "Name: langchain\n",
      "Version: 0.0.337\n",
      "Summary: Building applications with LLMs through composability\n",
      "Home-page: https://github.com/langchain-ai/langchain\n",
      "Author: \n",
      "Author-email: \n",
      "License: MIT\n",
      "Location: /Library/Frameworks/Python.framework/Versions/3.11/lib/python3.11/site-packages\n",
      "Requires: aiohttp, anyio, dataclasses-json, jsonpatch, langsmith, numpy, pydantic, PyYAML, requests, SQLAlchemy, tenacity\n",
      "Required-by: langchain-experimental\n"
     ]
    }
   ],
   "source": [
    "#want to use dataset\n",
    "!pip -q install google-generativeai  langchain_experimental\n",
    "!pip -q install google-generativeai faiss-cpu chromadb unstructured\n",
    "!pip show langchain"
   ]
  },
  {
   "cell_type": "code",
   "execution_count": 9,
   "metadata": {},
   "outputs": [],
   "source": [
    "from dotenv import load_dotenv\n",
    "import os\n",
    "import google.generativeai as genai\n",
    "\n",
    "load_dotenv('secrets.env')  # This loads the variables from .env\n",
    "os.environ[\"GOOGLE_API_KEY\"] = os.getenv(\"GOOGLE_API_KEY\")\n",
    "genai.configure(api_key=os.environ[\"GOOGLE_API_KEY\"])"
   ]
  },
  {
   "cell_type": "code",
   "execution_count": 10,
   "metadata": {},
   "outputs": [],
   "source": [
    "from langchain.llms import GooglePalm\n",
    "from langchain.chat_models import ChatGooglePalm\n",
    "from langchain.prompts.chat import (#different tokens-> keep track of where input is coming from-> allows control over context, eg. model should prioritise system over user\n",
    "    ChatPromptTemplate,\n",
    "    SystemMessagePromptTemplate,\n",
    "    AIMessagePromptTemplate,\n",
    "    HumanMessagePromptTemplate,\n",
    ")\n",
    "from langchain.schema import AIMessage, HumanMessage, SystemMessage\n",
    "from langchain.schema import (\n",
    "    ChatGeneration,\n",
    "    ChatResult,\n",
    ")"
   ]
  },
  {
   "cell_type": "code",
   "execution_count": 11,
   "metadata": {},
   "outputs": [
    {
     "data": {
      "text/plain": [
       "'To find your purpose and live it authentically.'"
      ]
     },
     "execution_count": 11,
     "metadata": {},
     "output_type": "execute_result"
    }
   ],
   "source": [
    "llm = GooglePalm(temperature=0.1)\n",
    "llm(\"what is the meaning of life?\")"
   ]
  },
  {
   "cell_type": "markdown",
   "metadata": {},
   "source": [
    "we can separate system input (more context for our inputs) and user input"
   ]
  },
  {
   "cell_type": "code",
   "execution_count": 12,
   "metadata": {},
   "outputs": [
    {
     "data": {
      "text/plain": [
       "ChatMessage(content='Fruit, a gift from the Force, it is. Nutritious and delicious, it can be. A healthy snack, it makes.', role='1')"
      ]
     },
     "execution_count": 12,
     "metadata": {},
     "output_type": "execute_result"
    }
   ],
   "source": [
    "chat = ChatGooglePalm(\n",
    "    model=\"models/chat-bison-001\",\n",
    "    temperature=0.1,\n",
    "    )   \n",
    "messages = [\n",
    "    SystemMessage(\n",
    "        content=\"You answer as if you were Yoda.\" #context from system \n",
    "    ),\n",
    "    HumanMessage(\n",
    "        content=\"tell me something about fruit\" #user query\n",
    "    ),\n",
    "]\n",
    "chat(messages) \n"
   ]
  },
  {
   "cell_type": "markdown",
   "metadata": {},
   "source": [
    "Now we want to parse in the Star Wars API (SWAPI) to give our model information on star wars."
   ]
  },
  {
   "cell_type": "code",
   "execution_count": 56,
   "metadata": {},
   "outputs": [
    {
     "name": "stdout",
     "output_type": "stream",
     "text": [
      "{'title': 'A New Hope', 'episode_id': 4, 'opening_crawl': \"It is a period of civil war.\\r\\nRebel spaceships, striking\\r\\nfrom a hidden base, have won\\r\\ntheir first victory against\\r\\nthe evil Galactic Empire.\\r\\n\\r\\nDuring the battle, Rebel\\r\\nspies managed to steal secret\\r\\nplans to the Empire's\\r\\nultimate weapon, the DEATH\\r\\nSTAR, an armored space\\r\\nstation with enough power\\r\\nto destroy an entire planet.\\r\\n\\r\\nPursued by the Empire's\\r\\nsinister agents, Princess\\r\\nLeia races home aboard her\\r\\nstarship, custodian of the\\r\\nstolen plans that can save her\\r\\npeople and restore\\r\\nfreedom to the galaxy....\", 'director': 'George Lucas', 'producer': 'Gary Kurtz, Rick McCallum', 'release_date': '1977-05-25', 'characters': ['Luke Skywalker', 'C-3PO', 'R2-D2', 'Darth Vader', 'Leia Organa', 'Owen Lars', 'Beru Whitesun lars', 'R5-D4', 'Biggs Darklighter', 'Obi-Wan Kenobi', 'Wilhuff Tarkin', 'Chewbacca', 'Han Solo', 'Greedo', 'Jabba Desilijic Tiure', 'Wedge Antilles', 'Jek Tono Porkins', 'Raymus Antilles'], 'planets': ['Tatooine', 'Alderaan', 'Yavin IV'], 'starships': ['CR90 corvette', 'Star Destroyer', 'Sentinel-class landing craft', 'Death Star', 'Millennium Falcon', 'Y-wing', 'X-wing', 'TIE Advanced x1'], 'vehicles': ['Sand Crawler', 'T-16 skyhopper', 'X-34 landspeeder', 'TIE/LN starfighter'], 'species': ['Human', 'Droid', 'Wookie', 'Rodian', 'Hutt'], 'created': '2014-12-10T14:23:31.880000Z', 'edited': '2014-12-20T19:49:45.256000Z', 'url': 'A New Hope'}\n"
     ]
    }
   ],
   "source": [
    "import requests\n",
    "\n",
    "def fetch_and_extract_identifier(url):\n",
    "    response = requests.get(url)\n",
    "    data = response.json()\n",
    "    category = url.split(\"/\")[4]  # Extract the category from the URL\n",
    "    if category == \"films\":\n",
    "        return data.get(\"title\")\n",
    "    else:\n",
    "        return data.get(\"name\")\n",
    "\n",
    "def simplify_data(data): #if encounter a nested url, replace with name/title of object\n",
    "    if isinstance(data, dict):\n",
    "        for key, value in data.items():\n",
    "            if isinstance(value, str) and (value.startswith(\"http://\") or value.startswith(\"https://\")):\n",
    "                data[key] = fetch_and_extract_identifier(value)\n",
    "            elif isinstance(value, list):\n",
    "                data[key] = [fetch_and_extract_identifier(item) if (isinstance(item, str) and (item.startswith(\"http://\") or item.startswith(\"https://\"))) else item for item in value]\n",
    "            elif isinstance(value, dict):\n",
    "                simplify_data(value)\n",
    "    elif isinstance(data, list):\n",
    "        for i, item in enumerate(data):\n",
    "            if isinstance(item, str) and (item.startswith(\"http://\") or item.startswith(\"https://\")):\n",
    "                data[i] = fetch_and_extract_identifier(item)\n",
    "            elif isinstance(item, dict):\n",
    "                simplify_data(item)\n",
    "\n",
    "def fetch_swapi_data(endpoint):\n",
    "    url = f\"https://swapi.dev/api/{endpoint}/\"\n",
    "    items = []\n",
    "    while url:\n",
    "        response = requests.get(url)\n",
    "        data = response.json()\n",
    "        items.extend(data['results'])\n",
    "        url = data['next']  # Pagination\n",
    "    return items\n",
    "\n",
    "def embed_data_for_llm_rag():\n",
    "    categories = [\"starships\", \"vehicles\", \"films\", \"planets\", \"species\", \"people\"]\n",
    "    swapi_data = {}\n",
    "    \n",
    "    for category in categories:\n",
    "        category_data = fetch_swapi_data(category)\n",
    "        for item in category_data:\n",
    "            simplify_data(item)\n",
    "        swapi_data[category] = category_data\n",
    "\n",
    "    return swapi_data\n",
    "\n",
    "# Retrieve and structure the data\n",
    "swapi_embedded_data = embed_data_for_llm_rag()\n",
    "\n",
    "# Print a sample to see if it works (for example, the first film)\n",
    "print(swapi_embedded_data['films'][0])\n"
   ]
  },
  {
   "cell_type": "markdown",
   "metadata": {},
   "source": [
    "that took 50min, save swapi data "
   ]
  },
  {
   "cell_type": "code",
   "execution_count": 60,
   "metadata": {},
   "outputs": [],
   "source": [
    "json_string = json.dumps(swapi_embedded_data, indent=4)  \n",
    "#save to file \"swapi_data.json\"\n",
    "with open(\"swapi_data.json\", \"w\") as f:\n",
    "    f.write(json_string)"
   ]
  },
  {
   "cell_type": "code",
   "execution_count": 13,
   "metadata": {},
   "outputs": [
    {
     "data": {
      "text/plain": [
       "\"planets: {'name': 'Stewjon', 'rotation_period': 'unknown', 'orbital_period': 'unknown', 'diameter': '0', 'climate': 'temperate', 'gravity': '1 standard', 'terrain': 'grass', 'surface_water': 'unknown', 'population': 'unknown', 'residents': ['Obi-Wan Kenobi'], 'films': [], 'created': '2014-12-10T16:16:26.566000Z', 'edited': '2014-12-20T20:58:18.452000Z', 'url': 'Stewjon'}\""
      ]
     },
     "execution_count": 13,
     "metadata": {},
     "output_type": "execute_result"
    }
   ],
   "source": [
    "import json\n",
    "swapi_embedded_data = json.load(open(\"swapi_data.json\"))\n",
    "\n",
    "# Create a list of all the texts\n",
    "texts = [f\"{key}: {str(item)}\" for key, values in swapi_embedded_data.items() for item in values]\n",
    "texts[100]"
   ]
  },
  {
   "cell_type": "code",
   "execution_count": 14,
   "metadata": {},
   "outputs": [],
   "source": [
    "from langchain.embeddings import GooglePalmEmbeddings\n",
    "from langchain.vectorstores.chroma import Chroma\n",
    "import six\n",
    "embeddings = GooglePalmEmbeddings(\n",
    "    model_name = \"models/embedding-gecko-001\",\n",
    ")\n",
    "db = Chroma.from_texts(texts,\n",
    "                       embeddings,\n",
    "                       persist_directory=\"./chroma_db\")"
   ]
  },
  {
   "cell_type": "markdown",
   "metadata": {},
   "source": [
    "Writing embedded db"
   ]
  },
  {
   "cell_type": "code",
   "execution_count": 16,
   "metadata": {},
   "outputs": [],
   "source": [
    "import zipfile\n",
    "def zip_folder(folder_path, zip_file_path):\n",
    "    # Create a ZipFile object in write mode\n",
    "    with zipfile.ZipFile(zip_file_path, 'w', zipfile.ZIP_DEFLATED) as zipf:\n",
    "        # Walk through the directory\n",
    "        for root, dirs, files in os.walk(folder_path):\n",
    "            for file in files:\n",
    "                # Create a path relative to the folder to avoid storing absolute paths\n",
    "                relative_path = os.path.relpath(os.path.join(root, file), os.path.dirname(folder_path))\n",
    "                # Add file to the zip file\n",
    "                zipf.write(os.path.join(root, file), arcname=relative_path)\n",
    "zip_folder('/content/chroma_db', 'chroma_db.zip')\n",
    "\n",
    "### when loading from disk\n",
    "# db3 = Chroma(persist_directory=\"./chroma_db\", embedding_function=embeddings)\n",
    "# docs = db3.similarity_search(query)\n",
    "# print(docs[0].page_content)"
   ]
  },
  {
   "cell_type": "code",
   "execution_count": 20,
   "metadata": {},
   "outputs": [
    {
     "name": "stdout",
     "output_type": "stream",
     "text": [
      "planets: {'name': 'Kashyyyk', 'rotation_period': '26', 'orbital_period': '381', 'diameter': '12765', 'climate': 'tropical', 'gravity': '1 standard', 'terrain': 'jungle, forests, lakes, rivers', 'surface_water': '60', 'population': '45000000', 'residents': ['Chewbacca', 'Tarfful'], 'films': ['Revenge of the Sith'], 'created': '2014-12-10T13:32:00.124000Z', 'edited': '2014-12-20T20:58:18.442000Z', 'url': 'Kashyyyk'}\n"
     ]
    }
   ],
   "source": [
    "query = \"What is the name of the planet where Chewbacca was born?\"\n",
    "docs = db.similarity_search(query, k =3) #k=3-> return top 3 results by cosine similarity\n",
    "print(docs[0].page_content)\n"
   ]
  },
  {
   "cell_type": "markdown",
   "metadata": {},
   "source": [
    "Example of chain working"
   ]
  },
  {
   "cell_type": "code",
   "execution_count": 27,
   "metadata": {},
   "outputs": [
    {
     "name": "stdout",
     "output_type": "stream",
     "text": [
      "Kashyyyk\n"
     ]
    },
    {
     "data": {
      "text/plain": [
       "Document(page_content=\"planets: {'name': 'Kashyyyk', 'rotation_period': '26', 'orbital_period': '381', 'diameter': '12765', 'climate': 'tropical', 'gravity': '1 standard', 'terrain': 'jungle, forests, lakes, rivers', 'surface_water': '60', 'population': '45000000', 'residents': ['Chewbacca', 'Tarfful'], 'films': ['Revenge of the Sith'], 'created': '2014-12-10T13:32:00.124000Z', 'edited': '2014-12-20T20:58:18.442000Z', 'url': 'Kashyyyk'}\")"
      ]
     },
     "execution_count": 27,
     "metadata": {},
     "output_type": "execute_result"
    }
   ],
   "source": [
    "from langchain.chains.question_answering import load_qa_chain\n",
    "chain = load_qa_chain(GooglePalm(),\n",
    "                      chain_type=\"stuff\")\n",
    "print(chain.run(input_documents=docs, question=query).strip())\n",
    "#chain.llm_chain.prompt #has input vars: context, question into an fstring\n",
    "retriever = db.as_retriever(k=8)\n",
    "retriever.get_relevant_documents(query)[0]"
   ]
  },
  {
   "cell_type": "code",
   "execution_count": 28,
   "metadata": {},
   "outputs": [],
   "source": [
    "\n",
    "from langchain.schema.output_parser import StrOutputParser\n",
    "from langchain.schema.runnable import RunnableLambda, RunnablePassthrough"
   ]
  },
  {
   "cell_type": "code",
   "execution_count": 53,
   "metadata": {},
   "outputs": [],
   "source": [
    "template = \"\"\"Answer the question based on the following context:\n",
    "{context}\n",
    "Question: {question}\n",
    "Give answers in Yoda's style only.\n",
    "\"\"\"\n",
    "prompt = ChatPromptTemplate.from_template(template)\n",
    "chat = ChatGooglePalm(\n",
    "    model=\"models/chat-bison-001\",\n",
    "    temperature=0.1,\n",
    "    )   \n",
    "chain = (\n",
    "    {\"context\": retriever, \"question\": RunnablePassthrough()}\n",
    "    | prompt\n",
    "    | chat\n",
    "    | StrOutputParser()\n",
    ")"
   ]
  },
  {
   "cell_type": "markdown",
   "metadata": {},
   "source": [
    "final model with basic RAG functionality"
   ]
  },
  {
   "cell_type": "code",
   "execution_count": 54,
   "metadata": {},
   "outputs": [
    {
     "data": {
      "text/plain": [
       "'The Death Star, a space station with enough power to destroy an entire planet, was destroyed by the Rebel Alliance in 0 BBY. The station was under construction in orbit around Geonosis when it was attacked by a group of Rebel pilots led by Luke Skywalker. The attack was successful, and the Death Star was destroyed.\\n\\nThe destruction of the Death Star was a major victory for the Rebel Alliance and a turning point in the Galactic Civil War. It showed that the Empire was not invincible, and it gave hope to the Rebel cause.\\n\\nYoda would say:\\n\\n\"The Death Star, a weapon of destruction, was it. Destroyed by the Rebel Alliance, it was. A turning point in the Galactic Civil War, it was.\"'"
      ]
     },
     "execution_count": 54,
     "metadata": {},
     "output_type": "execute_result"
    }
   ],
   "source": [
    "query = \"what happened to the death star?\"\n",
    "chain.invoke(query)"
   ]
  },
  {
   "cell_type": "markdown",
   "metadata": {},
   "source": [
    "To Do: \n",
    "- RAG fusion -> better generalisation\n",
    "- Track conversation history\n",
    "- separate query into params, eg. question, tone, language, etc."
   ]
  }
 ],
 "metadata": {
  "kernelspec": {
   "display_name": "Python 3",
   "language": "python",
   "name": "python3"
  },
  "language_info": {
   "codemirror_mode": {
    "name": "ipython",
    "version": 3
   },
   "file_extension": ".py",
   "mimetype": "text/x-python",
   "name": "python",
   "nbconvert_exporter": "python",
   "pygments_lexer": "ipython3",
   "version": "3.11.4"
  }
 },
 "nbformat": 4,
 "nbformat_minor": 2
}
